{
 "cells": [
  {
   "cell_type": "markdown",
   "id": "7bfca6ed-656d-4f14-b2c4-baf5d032b82a",
   "metadata": {},
   "source": [
    "## 다중분류(Multiclass classification)\n",
    "### ex) 뉴스 기사 분류하기\n",
    "- 리뷰 텍스트를 기반으로 긍/부정 분류\n",
    "- 참고 : https://github.com/gilbutITbook/006975/blob/master/3.5-classifying-newswires.ipynb\n",
    "\n",
    "- <b>Reuter 데이터셋</b> :<br>\n",
    "1986년 로이터에서 공개한 짧은 뉴스 기사와 토픽의 집합 데이터로 텍스트 분류를 위해 널리 사용됨"
   ]
  },
  {
   "cell_type": "markdown",
   "id": "421f3f1d-0726-4499-b9ca-a06143f566c2",
   "metadata": {},
   "source": [
    "### 1. 데이터셋 로드"
   ]
  },
  {
   "cell_type": "code",
   "execution_count": 1,
   "id": "97000eac-d445-4c61-ae58-f5e1faa8d1ea",
   "metadata": {},
   "outputs": [],
   "source": [
    "from keras.datasets import reuters\n",
    "(train_data, train_labels), (test_data, test_labels) = reuters.load_data(\n",
    "    num_words=10000)\n",
    "\n",
    "# num_words=10000\n",
    "# : 가장 자주 등장하는 단어 10000개만 사용(드물게 나타나는 단어 무시)"
   ]
  },
  {
   "cell_type": "code",
   "execution_count": 2,
   "id": "afcea1a3-ee60-4b95-946b-5c42adb67681",
   "metadata": {},
   "outputs": [
    {
     "name": "stdout",
     "output_type": "stream",
     "text": [
      "8982 2246\n"
     ]
    }
   ],
   "source": [
    "print(len(train_data), len(test_data))"
   ]
  },
  {
   "cell_type": "code",
   "execution_count": 3,
   "id": "43bec733-41e9-495e-a882-752f25cf5360",
   "metadata": {},
   "outputs": [],
   "source": [
    "# 데이터셋 텍스트로 디코딩\n",
    "word_index = reuters.get_word_index()\n",
    "reverse_word_index = dict(\n",
    "    [(value, key) for (key, value) in word_index.items()])\n",
    "# 0, 1, 2는 '패딩', '문서 시작', '사전에 없음'을 위한 인덱스이므로 3을 뺍니다\n",
    "decoded_newswire = ' '.join(\n",
    "    [reverse_word_index.get(i - 3, '?') for i in train_data[0]])"
   ]
  },
  {
   "cell_type": "code",
   "execution_count": 4,
   "id": "15d4b7aa-9599-4a1e-9410-2d4fd2909dc8",
   "metadata": {},
   "outputs": [
    {
     "data": {
      "text/plain": [
       "'? ? ? said as a result of its december acquisition of space co it expects earnings per share in 1987 of 1 15 to 1 30 dlrs per share up from 70 cts in 1986 the company said pretax net should rise to nine to 10 mln dlrs from six mln dlrs in 1986 and rental operation revenues to 19 to 22 mln dlrs from 12 5 mln dlrs it said cash flow per share this year should be 2 50 to three dlrs reuter 3'"
      ]
     },
     "execution_count": 4,
     "metadata": {},
     "output_type": "execute_result"
    }
   ],
   "source": [
    "decoded_newswire"
   ]
  },
  {
   "cell_type": "markdown",
   "id": "01cc8070-8385-410b-b59d-6295870b672d",
   "metadata": {},
   "source": [
    "### 2. 데이터 준비"
   ]
  },
  {
   "cell_type": "code",
   "execution_count": 5,
   "id": "5a9378d1-d603-408d-8663-1fa756d028ed",
   "metadata": {},
   "outputs": [
    {
     "name": "stdout",
     "output_type": "stream",
     "text": [
      "[1, 245, 273, 207, 156, 53, 74, 160, 26, 14, 46, 296, 26, 39, 74, 2979, 3554, 14, 46, 4689, 4329, 86, 61, 3499, 4795, 14, 61, 451, 4329, 17, 12] \n",
      "\n",
      "[1, 361, 372, 8, 77, 62, 325, 4105, 336, 5, 1605, 37, 412, 453, 1187, 229, 334, 13, 4, 867, 76, 4, 76, 1726, 6, 264, 2337, 18, 82, 95, 97, 2220, 4, 1004, 649, 18, 82, 554, 136, 4, 143, 334, 290, 126, 5, 4, 2820, 777, 2, 1386, 13, 954, 7, 4, 314, 912, 224, 4, 2370, 1128, 54, 429, 2, 18, 82, 5, 496, 1187, 229, 57, 85, 385, 593, 6, 4, 867, 76, 17, 12]\n"
     ]
    }
   ],
   "source": [
    "print(train_data[10], '\\n')\n",
    "print(test_data[10])"
   ]
  },
  {
   "cell_type": "code",
   "execution_count": 6,
   "id": "2a50c7b4-9894-4c8b-a7cd-4a83a5681c81",
   "metadata": {},
   "outputs": [],
   "source": [
    "# 데이터 : 인코딩\n",
    "import numpy as np\n",
    "def vectorize_sequences(sequences, dimension=10000):\n",
    "    results = np.zeros((len(sequences), dimension))\n",
    "    for i, sequence in enumerate(sequences):\n",
    "        results[i, sequence] = 1.\n",
    "    return results\n",
    "\n",
    "x_train = vectorize_sequences(train_data)   # 훈련데이터 벡터 변환\n",
    "x_test = vectorize_sequences(test_data)     # 테스트데이터 벡터 변환"
   ]
  },
  {
   "cell_type": "code",
   "execution_count": 7,
   "id": "7401cae0-502e-42ec-bbbc-5818c23eac3e",
   "metadata": {},
   "outputs": [
    {
     "name": "stdout",
     "output_type": "stream",
     "text": [
      "[0. 1. 0. ... 0. 0. 0.] \n",
      "\n",
      "[0. 1. 1. ... 0. 0. 0.]\n"
     ]
    }
   ],
   "source": [
    "print(x_train[10], '\\n')\n",
    "print(x_test[10])"
   ]
  },
  {
   "cell_type": "markdown",
   "id": "2576ed65-c507-479a-bd95-7bc3e9f55f33",
   "metadata": {},
   "source": [
    "레이블을 벡터로 바꾸는 방법은 1) 레이블 리스트를 정수텐서로 변환하거나, 2) 원-핫 인코딩을 사용하는 방법이 있다. <br>특히\n",
    "웟-핫 인코딩은 범주형 데이터에 자주 사용된다."
   ]
  },
  {
   "cell_type": "code",
   "execution_count": 8,
   "id": "b5b2fef2-597a-4b2d-a0f2-8df976aa47f6",
   "metadata": {},
   "outputs": [],
   "source": [
    "# 레이블 : 원-핫 인코딩\n",
    "def to_one_hot(labels, dimension=46) :\n",
    "    results = np.zeros((len(labels), dimension))\n",
    "    for i, label in enumerate(labels) :\n",
    "        results[i, label] = 1.\n",
    "    return results\n",
    "\n",
    "one_hot_train_labels = to_one_hot(train_labels)   # 훈련레이블 벡터 변환\n",
    "one_hot_test_labels = to_one_hot(test_labels)     # 테스트레이블 벡터 변환"
   ]
  },
  {
   "cell_type": "code",
   "execution_count": 9,
   "id": "8013813c-7a5c-410d-bffc-c3b67d8e4b44",
   "metadata": {},
   "outputs": [],
   "source": [
    "# 케라스 내장 함수 원-핫 인코딩 방법\n",
    "from keras.utils.np_utils import to_categorical\n",
    "\n",
    "one_hot_train_labels = to_categorical(train_labels)   # 훈련레이블 벡터 변환\n",
    "one_hot_test_labels = to_categorical(test_labels)     # 테스트레이블 벡터 변환"
   ]
  },
  {
   "cell_type": "markdown",
   "id": "ab555eeb-9f8d-4106-91c9-3ceeee4910c4",
   "metadata": {},
   "source": [
    "### 3. 모델 구성\n",
    "층의 크기(유닛)은 보통 출력 클래스 개수보다 크게 지정한다. 이번 모델에서는 출력 클래스 개수가 46로 차원이 훨씬 커졌다."
   ]
  },
  {
   "cell_type": "code",
   "execution_count": 10,
   "id": "bc19a5ca-0933-4a96-bebb-4efca1c44122",
   "metadata": {},
   "outputs": [],
   "source": [
    "from keras import models\n",
    "from keras import layers\n",
    "\n",
    "model = models.Sequential()\n",
    "model.add(layers.Dense(64, activation='relu', input_shape=(10000, )))\n",
    "model.add(layers.Dense(64, activation='relu'))\n",
    "model.add(layers.Dense(46, activation='softmax'))"
   ]
  },
  {
   "cell_type": "markdown",
   "id": "740cc984-7d65-42b8-bb0f-e925f3234255",
   "metadata": {},
   "source": [
    "마지막 층에는 softmax 활성화 함수가 사용되었다. 각 입력 샘플마다 46개 출력 클래스에 대한 확률 분포를 출력한다.<br>\n",
    "즉, 46차원(벡터에서 차원은 원소 개수) 출력 벡터를 만든다. output[i]는 어떤 샘플이 클래스 i에 속할 확률로 모두 더하면 1이다.\n",
    "<br><br>\n",
    "여기서 최선의 손실함수는 categorical_crossentropy이다. 이는 두 확률분포 사이의 거리를 측정하는 함수로 <br>네트워크가 출력한 확률분포와 진짜 레이블의 분포 사이의 거리다. <br>두 분포 사이의 거리를 최소화하면 진짜 레이블에 가까운 출력을 내도록 모델을 훈련한다.\n",
    "\n",
    "- 단일 레이블, 다중 분류의 경우 N개의 클래스에 대한 확률 분포를 출력하기 때문에 softmax 활성화 함수를 사용해야 한다.\n",
    "- 또한, 많은 수의 범주를 분류할 때 중간층의 크기가 너무 작아 정보 병목이 생기지 않도록 주의해야 한다."
   ]
  },
  {
   "cell_type": "code",
   "execution_count": 11,
   "id": "bc2f5b00-09bf-47bc-b414-dd7e22356cff",
   "metadata": {},
   "outputs": [],
   "source": [
    "# 모델 컴파일\n",
    "model.compile(optimizer='rmsprop',\n",
    "              loss='categorical_crossentropy',\n",
    "              metrics=['accuracy'])"
   ]
  },
  {
   "cell_type": "markdown",
   "id": "7cd4334d-470f-4fb0-b753-af608f2abc84",
   "metadata": {},
   "source": [
    "- 다중분류 손실함수(범주형 레이블) : categorical_crossentropy\n",
    "- 다중분류 손실함수(정수형 레이블) : sparse_categorical_crossentropy"
   ]
  },
  {
   "cell_type": "markdown",
   "id": "dafaa311-adaa-46b1-9d9a-269cd2833e5e",
   "metadata": {},
   "source": [
    "### 4. 훈련 검증"
   ]
  },
  {
   "cell_type": "code",
   "execution_count": 12,
   "id": "15c2474f-8421-4c82-9031-bc941e34b876",
   "metadata": {},
   "outputs": [],
   "source": [
    "# 검증셋 생성 (1000개 샘플 사용)\n",
    "x_val = x_train[:1000]\n",
    "partial_x_train = x_train[1000:]\n",
    "\n",
    "y_val = one_hot_train_labels[:1000]\n",
    "partial_y_train = one_hot_train_labels[1000:]"
   ]
  },
  {
   "cell_type": "code",
   "execution_count": 13,
   "id": "dc3232f8-607c-4351-9eb0-f75fec0f27b3",
   "metadata": {},
   "outputs": [
    {
     "name": "stdout",
     "output_type": "stream",
     "text": [
      "Epoch 1/20\n",
      "16/16 [==============================] - 1s 30ms/step - loss: 2.5849 - accuracy: 0.4979 - val_loss: 1.7149 - val_accuracy: 0.6490\n",
      "Epoch 2/20\n",
      "16/16 [==============================] - 0s 19ms/step - loss: 1.3935 - accuracy: 0.7147 - val_loss: 1.2756 - val_accuracy: 0.7190\n",
      "Epoch 3/20\n",
      "16/16 [==============================] - 0s 18ms/step - loss: 1.0262 - accuracy: 0.7846 - val_loss: 1.1195 - val_accuracy: 0.7630\n",
      "Epoch 4/20\n",
      "16/16 [==============================] - 0s 19ms/step - loss: 0.8070 - accuracy: 0.8353 - val_loss: 1.0219 - val_accuracy: 0.7850\n",
      "Epoch 5/20\n",
      "16/16 [==============================] - 0s 19ms/step - loss: 0.6496 - accuracy: 0.8658 - val_loss: 0.9602 - val_accuracy: 0.8020\n",
      "Epoch 6/20\n",
      "16/16 [==============================] - 0s 20ms/step - loss: 0.5226 - accuracy: 0.8948 - val_loss: 0.9234 - val_accuracy: 0.8050\n",
      "Epoch 7/20\n",
      "16/16 [==============================] - 0s 18ms/step - loss: 0.4199 - accuracy: 0.9163 - val_loss: 0.8930 - val_accuracy: 0.8220\n",
      "Epoch 8/20\n",
      "16/16 [==============================] - 0s 17ms/step - loss: 0.3457 - accuracy: 0.9288 - val_loss: 0.8972 - val_accuracy: 0.8090\n",
      "Epoch 9/20\n",
      "16/16 [==============================] - 0s 18ms/step - loss: 0.2887 - accuracy: 0.9350 - val_loss: 0.8884 - val_accuracy: 0.8200\n",
      "Epoch 10/20\n",
      "16/16 [==============================] - 0s 18ms/step - loss: 0.2397 - accuracy: 0.9449 - val_loss: 0.9025 - val_accuracy: 0.8100\n",
      "Epoch 11/20\n",
      "16/16 [==============================] - 0s 18ms/step - loss: 0.2146 - accuracy: 0.9479 - val_loss: 0.9526 - val_accuracy: 0.7990\n",
      "Epoch 12/20\n",
      "16/16 [==============================] - 0s 18ms/step - loss: 0.1806 - accuracy: 0.9519 - val_loss: 0.9610 - val_accuracy: 0.8080\n",
      "Epoch 13/20\n",
      "16/16 [==============================] - 0s 19ms/step - loss: 0.1730 - accuracy: 0.9529 - val_loss: 0.9533 - val_accuracy: 0.8080\n",
      "Epoch 14/20\n",
      "16/16 [==============================] - 0s 18ms/step - loss: 0.1523 - accuracy: 0.9559 - val_loss: 0.9686 - val_accuracy: 0.8110\n",
      "Epoch 15/20\n",
      "16/16 [==============================] - 0s 18ms/step - loss: 0.1415 - accuracy: 0.9536 - val_loss: 0.9902 - val_accuracy: 0.8140\n",
      "Epoch 16/20\n",
      "16/16 [==============================] - 0s 19ms/step - loss: 0.1318 - accuracy: 0.9577 - val_loss: 1.0180 - val_accuracy: 0.8020\n",
      "Epoch 17/20\n",
      "16/16 [==============================] - 0s 18ms/step - loss: 0.1291 - accuracy: 0.9558 - val_loss: 1.0328 - val_accuracy: 0.8060\n",
      "Epoch 18/20\n",
      "16/16 [==============================] - 0s 19ms/step - loss: 0.1256 - accuracy: 0.9564 - val_loss: 1.0311 - val_accuracy: 0.7990\n",
      "Epoch 19/20\n",
      "16/16 [==============================] - 0s 19ms/step - loss: 0.1139 - accuracy: 0.9587 - val_loss: 1.0939 - val_accuracy: 0.7920\n",
      "Epoch 20/20\n",
      "16/16 [==============================] - 0s 17ms/step - loss: 0.1137 - accuracy: 0.9559 - val_loss: 1.1190 - val_accuracy: 0.7960\n"
     ]
    }
   ],
   "source": [
    "# 모델 훈련\n",
    "history = model.fit(partial_x_train,\n",
    "                    partial_y_train,\n",
    "                    epochs=20,\n",
    "                    batch_size=512,\n",
    "                    validation_data=(x_val, y_val))"
   ]
  },
  {
   "cell_type": "code",
   "execution_count": 14,
   "id": "7ef73330-4c2f-4e22-bb81-a8d7944241e8",
   "metadata": {},
   "outputs": [
    {
     "name": "stdout",
     "output_type": "stream",
     "text": [
      "{'loss': [2.5849497318267822, 1.3935273885726929, 1.026176929473877, 0.8070107102394104, 0.6495991349220276, 0.5226044654846191, 0.41987934708595276, 0.34574809670448303, 0.2887372672557831, 0.23967710137367249, 0.21457156538963318, 0.18055692315101624, 0.1729513704776764, 0.15232154726982117, 0.14151525497436523, 0.1317775845527649, 0.1291402280330658, 0.1255580335855484, 0.1139349639415741, 0.11369746923446655], 'accuracy': [0.49787020683288574, 0.7147331237792969, 0.7846404314041138, 0.8352543115615845, 0.8658230900764465, 0.8947632312774658, 0.9163116812705994, 0.9288398623466492, 0.934978723526001, 0.944875955581665, 0.9478827118873596, 0.9518917798995972, 0.9528940320014954, 0.9559007883071899, 0.9536457061767578, 0.9576547145843506, 0.9557754993438721, 0.9564018845558167, 0.9586569666862488, 0.9559007883071899], 'val_loss': [1.7149406671524048, 1.2756303548812866, 1.1194977760314941, 1.021852970123291, 0.9601728320121765, 0.9234354496002197, 0.8929969668388367, 0.8972007632255554, 0.8883805871009827, 0.9025342464447021, 0.9526364803314209, 0.960981011390686, 0.9532977342605591, 0.9685953855514526, 0.990190327167511, 1.017968773841858, 1.0328320264816284, 1.0311436653137207, 1.0939267873764038, 1.1189756393432617], 'val_accuracy': [0.6489999890327454, 0.718999981880188, 0.7630000114440918, 0.7850000262260437, 0.8019999861717224, 0.8050000071525574, 0.8220000267028809, 0.8090000152587891, 0.8199999928474426, 0.8100000023841858, 0.7990000247955322, 0.8080000281333923, 0.8080000281333923, 0.8109999895095825, 0.8140000104904175, 0.8019999861717224, 0.8059999942779541, 0.7990000247955322, 0.7919999957084656, 0.7960000038146973]}\n"
     ]
    }
   ],
   "source": [
    "print(history.history)"
   ]
  },
  {
   "cell_type": "code",
   "execution_count": 15,
   "id": "f2fafa07-93f8-4f60-9bbf-f4117cfce8eb",
   "metadata": {},
   "outputs": [],
   "source": [
    "# 손실 시각화\n",
    "import matplotlib.pyplot as plt\n",
    "\n",
    "loss = history.history['loss']\n",
    "val_loss = history.history['val_loss']\n",
    "\n",
    "epochs = range(1, len(loss) + 1)"
   ]
  },
  {
   "cell_type": "code",
   "execution_count": 16,
   "id": "63873035-dc85-4dec-a89f-d055ab9a5927",
   "metadata": {},
   "outputs": [
    {
     "data": {
      "image/png": "[encoded data removed]",
      "text/plain": [
       "<Figure size 432x288 with 1 Axes>"
      ]
     },
     "metadata": {
      "needs_background": "light"
     },
     "output_type": "display_data"
    }
   ],
   "source": [
    "plt.plot(epochs, loss, 'bo', label='Training loss')\n",
    "plt.plot(epochs, val_loss, 'b', label='Validation loss')\n",
    "plt.title('Training and validation loss')\n",
    "plt.xlabel('Epochs')\n",
    "plt.ylabel('Loss')\n",
    "plt.legend()\n",
    "\n",
    "plt.show()"
   ]
  },
  {
   "cell_type": "code",
   "execution_count": 18,
   "id": "80fe0c07-8f63-4937-b283-da813bfb15af",
   "metadata": {},
   "outputs": [
    {
     "data": {
      "image/png": "[encoded data removed]",
      "text/plain": [
       "<Figure size 432x288 with 1 Axes>"
      ]
     },
     "metadata": {
      "needs_background": "light"
     },
     "output_type": "display_data"
    }
   ],
   "source": [
    "# 정확도 시각화\n",
    "plt.clf()   # 그래프 초기화\n",
    "\n",
    "acc = history.history['accuracy']\n",
    "val_acc = history.history['val_accuracy']\n",
    "\n",
    "plt.plot(epochs, acc, 'bo', label='Training acc')\n",
    "plt.plot(epochs, val_acc, 'b', label='Validation acc')\n",
    "plt.title('Training and validation accuracy')\n",
    "plt.xlabel('Epochs')\n",
    "plt.ylabel('Accuracy')\n",
    "plt.legend()\n",
    "\n",
    "plt.show()"
   ]
  },
  {
   "cell_type": "markdown",
   "id": "32161a7e-8819-49b4-9647-ddf6b213a39c",
   "metadata": {},
   "source": [
    "이 모델은 9번째 에포크 이후 과대적합이 시작된다. val_loss가 증가하며 테스트 정확도가 점점 감소하는 것을 확인할 수 있다."
   ]
  },
  {
   "cell_type": "code",
   "execution_count": 19,
   "id": "cf301037-04a8-4859-a177-669cff960296",
   "metadata": {},
   "outputs": [
    {
     "name": "stdout",
     "output_type": "stream",
     "text": [
      "Epoch 1/9\n",
      "16/16 [==============================] - 1s 27ms/step - loss: 2.6025 - accuracy: 0.5461 - val_loss: 1.7323 - val_accuracy: 0.6520\n",
      "Epoch 2/9\n",
      "16/16 [==============================] - 0s 19ms/step - loss: 1.3800 - accuracy: 0.7169 - val_loss: 1.3052 - val_accuracy: 0.7310\n",
      "Epoch 3/9\n",
      "16/16 [==============================] - 0s 18ms/step - loss: 1.0156 - accuracy: 0.7879 - val_loss: 1.1425 - val_accuracy: 0.7490\n",
      "Epoch 4/9\n",
      "16/16 [==============================] - 0s 18ms/step - loss: 0.7988 - accuracy: 0.8346 - val_loss: 1.0406 - val_accuracy: 0.7780\n",
      "Epoch 5/9\n",
      "16/16 [==============================] - 0s 19ms/step - loss: 0.6350 - accuracy: 0.8664 - val_loss: 0.9651 - val_accuracy: 0.8030\n",
      "Epoch 6/9\n",
      "16/16 [==============================] - 0s 19ms/step - loss: 0.5144 - accuracy: 0.8906 - val_loss: 0.9474 - val_accuracy: 0.8010\n",
      "Epoch 7/9\n",
      "16/16 [==============================] - 0s 19ms/step - loss: 0.4142 - accuracy: 0.9103 - val_loss: 0.9094 - val_accuracy: 0.8170\n",
      "Epoch 8/9\n",
      "16/16 [==============================] - 0s 18ms/step - loss: 0.3380 - accuracy: 0.9266 - val_loss: 0.9100 - val_accuracy: 0.8100\n",
      "Epoch 9/9\n",
      "16/16 [==============================] - 0s 19ms/step - loss: 0.2821 - accuracy: 0.9372 - val_loss: 0.9052 - val_accuracy: 0.8150\n",
      "71/71 [==============================] - 0s 2ms/step - loss: 0.9947 - accuracy: 0.7956\n"
     ]
    }
   ],
   "source": [
    "# 9번 에포크로 새로운 모델 훈련하고 테스트 평가\n",
    "model = models.Sequential()\n",
    "model.add(layers.Dense(64, activation='relu', input_shape=(10000,)))\n",
    "model.add(layers.Dense(64, activation='relu'))\n",
    "model.add(layers.Dense(46, activation='softmax'))\n",
    "\n",
    "model.compile(optimizer='rmsprop',\n",
    "              loss='categorical_crossentropy',\n",
    "              metrics=['accuracy'])\n",
    "model.fit(partial_x_train,\n",
    "          partial_y_train,\n",
    "          epochs=9,\n",
    "          batch_size=512,\n",
    "          validation_data=(x_val, y_val))\n",
    "results = model.evaluate(x_test, one_hot_test_labels)"
   ]
  },
  {
   "cell_type": "code",
   "execution_count": 20,
   "id": "0c1e868a-8183-4a64-a1ce-6958cdcf6b03",
   "metadata": {},
   "outputs": [
    {
     "data": {
      "text/plain": [
       "[0.9947128295898438, 0.7956367135047913]"
      ]
     },
     "execution_count": 20,
     "metadata": {},
     "output_type": "execute_result"
    }
   ],
   "source": [
    "results    # 약 79.6% 정확도 달성"
   ]
  },
  {
   "cell_type": "markdown",
   "id": "c8ed1589-6a41-4bc7-ab68-a80298cff70b",
   "metadata": {},
   "source": [
    "### 5. 새로운 데이터 예측"
   ]
  },
  {
   "cell_type": "code",
   "execution_count": 21,
   "id": "ef4622ce-c3cc-4173-bf5b-f0a6e5a196fe",
   "metadata": {},
   "outputs": [
    {
     "name": "stdout",
     "output_type": "stream",
     "text": [
      "71/71 [==============================] - 0s 2ms/step\n"
     ]
    }
   ],
   "source": [
    "predictions = model.predict(x_test)"
   ]
  },
  {
   "cell_type": "code",
   "execution_count": 22,
   "id": "299e6ad8-8c77-455a-a49d-e54aa402583c",
   "metadata": {},
   "outputs": [
    {
     "data": {
      "text/plain": [
       "(2246, 46)"
      ]
     },
     "execution_count": 22,
     "metadata": {},
     "output_type": "execute_result"
    }
   ],
   "source": [
    "predictions.shape"
   ]
  },
  {
   "cell_type": "code",
   "execution_count": 23,
   "id": "f0dc4b9b-642e-4bcd-afa6-c927b9097463",
   "metadata": {},
   "outputs": [
    {
     "data": {
      "text/plain": [
       "(46,)"
      ]
     },
     "execution_count": 23,
     "metadata": {},
     "output_type": "execute_result"
    }
   ],
   "source": [
    "predictions[0].shape  # 길이가 46인 벡터"
   ]
  },
  {
   "cell_type": "code",
   "execution_count": 27,
   "id": "976f5a8e-0ed6-472f-91db-6da9841c9244",
   "metadata": {},
   "outputs": [
    {
     "data": {
      "text/plain": [
       "array([6.66731576e-05, 3.25471541e-04, 1.76988542e-05, 9.38656509e-01,\n",
       "       3.10085770e-02, 2.27352197e-04, 9.92964924e-05, 5.44655886e-05,\n",
       "       2.60383077e-03, 3.31264127e-05, 4.71840991e-04, 9.18181788e-04,\n",
       "       3.98294884e-04, 1.07441003e-04, 2.11382270e-04, 2.87074545e-05,\n",
       "       5.25268679e-03, 2.56594445e-04, 1.49510728e-04, 5.82801737e-03,\n",
       "       6.45404868e-03, 1.32112356e-03, 3.97219083e-05, 5.45179471e-04,\n",
       "       4.12011923e-06, 3.93085502e-05, 1.23780992e-04, 1.35166965e-05,\n",
       "       1.71090534e-04, 5.59763925e-04, 6.05752102e-05, 1.84198667e-04,\n",
       "       3.42115964e-04, 6.39328355e-05, 7.35107678e-05, 6.23364849e-06,\n",
       "       5.56719780e-04, 6.71965900e-05, 3.28071269e-06, 1.24202797e-03,\n",
       "       9.54366915e-05, 1.21294230e-03, 1.04317280e-06, 6.59066936e-05,\n",
       "       6.77697153e-06, 3.07196897e-05], dtype=float32)"
      ]
     },
     "execution_count": 27,
     "metadata": {},
     "output_type": "execute_result"
    }
   ],
   "source": [
    "predictions[0]"
   ]
  },
  {
   "cell_type": "code",
   "execution_count": 24,
   "id": "931545a8-ac9f-4397-88c3-eddde874f15c",
   "metadata": {},
   "outputs": [
    {
     "data": {
      "text/plain": [
       "1.0"
      ]
     },
     "execution_count": 24,
     "metadata": {},
     "output_type": "execute_result"
    }
   ],
   "source": [
    "np.sum(predictions[0])  # oup 결과 원소의 합은 1"
   ]
  },
  {
   "cell_type": "code",
   "execution_count": 26,
   "id": "b23125df-22f1-4461-a4cb-a017d5c0db78",
   "metadata": {},
   "outputs": [
    {
     "data": {
      "text/plain": [
       "3"
      ]
     },
     "execution_count": 26,
     "metadata": {},
     "output_type": "execute_result"
    }
   ],
   "source": [
    "# argmax : 최대값 색인 위치 출력\n",
    "np.argmax(predictions[0])  # 가장 확률이 높은 클래스"
   ]
  },
  {
   "cell_type": "markdown",
   "id": "f069b873-8833-4baa-ae62-bbeaf5e92b68",
   "metadata": {},
   "source": [
    "### a. 레이블과 손실을 다루는 다른 방법"
   ]
  },
  {
   "cell_type": "code",
   "execution_count": 28,
   "id": "1fabb391-1499-483d-8a5a-60eceaad1e89",
   "metadata": {},
   "outputs": [],
   "source": [
    "# 레이블 인코딩 : 정수텐서로 변환\n",
    "y_train = np.array(train_labels)\n",
    "y_test = np.array(test_labels)"
   ]
  },
  {
   "cell_type": "code",
   "execution_count": 32,
   "id": "ffb56933-2b47-44b7-b866-d2a6fa586bf1",
   "metadata": {},
   "outputs": [],
   "source": [
    "# 정수텐서를 위한 손실함수 사용\n",
    "model.compile(optimizer='rmsprop', \n",
    "              loss='sparse_categorical_crossentropy', \n",
    "              metrics=['accuracy'])"
   ]
  },
  {
   "cell_type": "markdown",
   "id": "af0023a3-527e-45c3-a8fe-7bcfdd12e1f2",
   "metadata": {},
   "source": [
    "위에서 사용한 categorical_crossentropy 는 레이블이 범주형 인코딩 되어 있을때 사용 가능하다.<br>\n",
    "하지만 범주형이 아닌 정수 레이블을 사용할 때는sparse_categorical_crossentropy 을 사용해야 한다.<br>\n",
    "인터페이스만 다르고 두 손실함수는 수학적으로 동일하다."
   ]
  },
  {
   "cell_type": "markdown",
   "id": "d78abb07-2cfa-413c-b3a4-1bb27c462b15",
   "metadata": {},
   "source": [
    "### b. 충분한 중간층의 필요성"
   ]
  },
  {
   "cell_type": "markdown",
   "id": "fca5d23b-f4bf-490b-a690-d3cfc81bc642",
   "metadata": {},
   "source": [
    "마지막 출력이 46차원이기 때문에 중간층의 유닛이 46개보다 많이 적으면 안된다."
   ]
  },
  {
   "cell_type": "code",
   "execution_count": 36,
   "id": "d33d6833-9697-44cb-ba60-df4b388f81c2",
   "metadata": {},
   "outputs": [
    {
     "name": "stdout",
     "output_type": "stream",
     "text": [
      "Epoch 1/20\n",
      "63/63 [==============================] - 1s 11ms/step - loss: 2.9447 - accuracy: 0.2402 - val_loss: 2.2847 - val_accuracy: 0.5150\n",
      "Epoch 2/20\n",
      "63/63 [==============================] - 1s 8ms/step - loss: 1.8875 - accuracy: 0.5669 - val_loss: 1.6833 - val_accuracy: 0.5770\n",
      "Epoch 3/20\n",
      "63/63 [==============================] - 1s 8ms/step - loss: 1.4915 - accuracy: 0.6173 - val_loss: 1.5146 - val_accuracy: 0.6310\n",
      "Epoch 4/20\n",
      "63/63 [==============================] - 1s 8ms/step - loss: 1.2848 - accuracy: 0.6689 - val_loss: 1.4028 - val_accuracy: 0.6640\n",
      "Epoch 5/20\n",
      "63/63 [==============================] - 1s 9ms/step - loss: 1.1275 - accuracy: 0.7010 - val_loss: 1.3410 - val_accuracy: 0.6710\n",
      "Epoch 6/20\n",
      "63/63 [==============================] - 1s 9ms/step - loss: 1.0044 - accuracy: 0.7264 - val_loss: 1.3250 - val_accuracy: 0.6830\n",
      "Epoch 7/20\n",
      "63/63 [==============================] - 1s 8ms/step - loss: 0.8985 - accuracy: 0.7725 - val_loss: 1.2774 - val_accuracy: 0.7020\n",
      "Epoch 8/20\n",
      "63/63 [==============================] - 1s 8ms/step - loss: 0.8158 - accuracy: 0.7909 - val_loss: 1.2850 - val_accuracy: 0.7100\n",
      "Epoch 9/20\n",
      "63/63 [==============================] - 1s 8ms/step - loss: 0.7475 - accuracy: 0.8029 - val_loss: 1.2966 - val_accuracy: 0.7050\n",
      "Epoch 10/20\n",
      "63/63 [==============================] - 1s 8ms/step - loss: 0.6912 - accuracy: 0.8133 - val_loss: 1.3390 - val_accuracy: 0.7120\n",
      "Epoch 11/20\n",
      "63/63 [==============================] - 1s 8ms/step - loss: 0.6434 - accuracy: 0.8267 - val_loss: 1.3409 - val_accuracy: 0.7110\n",
      "Epoch 12/20\n",
      "63/63 [==============================] - 1s 8ms/step - loss: 0.6012 - accuracy: 0.8383 - val_loss: 1.3981 - val_accuracy: 0.7070\n",
      "Epoch 13/20\n",
      "63/63 [==============================] - 1s 8ms/step - loss: 0.5630 - accuracy: 0.8474 - val_loss: 1.4020 - val_accuracy: 0.7110\n",
      "Epoch 14/20\n",
      "63/63 [==============================] - 1s 9ms/step - loss: 0.5315 - accuracy: 0.8571 - val_loss: 1.4417 - val_accuracy: 0.7150\n",
      "Epoch 15/20\n",
      "63/63 [==============================] - 1s 9ms/step - loss: 0.5014 - accuracy: 0.8618 - val_loss: 1.4968 - val_accuracy: 0.7090\n",
      "Epoch 16/20\n",
      "63/63 [==============================] - 1s 9ms/step - loss: 0.4745 - accuracy: 0.8685 - val_loss: 1.5690 - val_accuracy: 0.7160\n",
      "Epoch 17/20\n",
      "63/63 [==============================] - 1s 9ms/step - loss: 0.4516 - accuracy: 0.8746 - val_loss: 1.5906 - val_accuracy: 0.7180\n",
      "Epoch 18/20\n",
      "63/63 [==============================] - 1s 9ms/step - loss: 0.4300 - accuracy: 0.8789 - val_loss: 1.6398 - val_accuracy: 0.7250\n",
      "Epoch 19/20\n",
      "63/63 [==============================] - 1s 9ms/step - loss: 0.4117 - accuracy: 0.8842 - val_loss: 1.6847 - val_accuracy: 0.6970\n",
      "Epoch 20/20\n",
      "63/63 [==============================] - 1s 9ms/step - loss: 0.3934 - accuracy: 0.8898 - val_loss: 1.7745 - val_accuracy: 0.7050\n"
     ]
    },
    {
     "data": {
      "text/plain": [
       "<keras.callbacks.History at 0x25f83b8cc10>"
      ]
     },
     "execution_count": 36,
     "metadata": {},
     "output_type": "execute_result"
    }
   ],
   "source": [
    "model = models.Sequential()\n",
    "model.add(layers.Dense(64, activation='relu', input_shape=(10000,)))\n",
    "model.add(layers.Dense(4, activation='relu'))\n",
    "model.add(layers.Dense(46, activation='softmax'))\n",
    "\n",
    "model.compile(optimizer='rmsprop',\n",
    "              loss='categorical_crossentropy',\n",
    "              metrics=['accuracy'])\n",
    "model.fit(partial_x_train,\n",
    "          partial_y_train,\n",
    "          epochs=20,\n",
    "          batch_size=128,\n",
    "          validation_data=(x_val, y_val))"
   ]
  },
  {
   "cell_type": "markdown",
   "id": "454859f7-ea2d-4423-91a3-07e49bccffd1",
   "metadata": {},
   "source": [
    "중간층 유닛을 작게 설정하면 검증정확도는 71%로 약 8% 정도 감소되었다.<br>\n",
    "이런 손실 원인은 대부분 많은 정보를 적은 중간층의 표현 공간으로 압축하려 했기 때문이다.<br>\n",
    "즉, 한번에 많은 정보를 압축하려하기 보다는 충분한 중간층을 두는 것이 적절하다."
   ]
  }
 ],
 "metadata": {
  "kernelspec": {
   "display_name": "django2_kernel",
   "language": "python",
   "name": "django2"
  },
  "language_info": {
   "codemirror_mode": {
    "name": "ipython",
    "version": 3
   },
   "file_extension": ".py",
   "mimetype": "text/x-python",
   "name": "python",
   "nbconvert_exporter": "python",
   "pygments_lexer": "ipython3",
   "version": "3.10.5"
  }
 },
 "nbformat": 4,
 "nbformat_minor": 5
}
