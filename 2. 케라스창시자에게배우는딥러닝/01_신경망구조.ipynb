{
 "cells": [
  {
   "cell_type": "markdown",
   "id": "0d883aea-9cf4-4dc5-87a8-b45b0c62f429",
   "metadata": {},
   "source": [
    "- 예제 소스코드 및 데이터 : https://github.com/gilbutITbook/006975"
   ]
  },
  {
   "cell_type": "markdown",
   "id": "7f5d2303-4ad0-4ab6-aef7-a69065bcaa4a",
   "metadata": {},
   "source": [
    "## 딥러닝이란?\n",
    "- 머신러닝의 특정한 한 분야로서 연속된 층(layer)에서 점진적으로 의미있는 표현을 학습하는 방식\n",
    "<img src = 'https://thebook.io/img/006975/035.jpg' width ='40%' height='40%'/>\n",
    "<br><br>\n",
    "\n",
    "- 층에서 입력데이터가 처리되는 상세 내용은 가중치(weight)에 저장되어 있다.<br>어떤 층에서 일어나는 변환은 그 층의 가중치를 파라미터로 가지는 함수로 표현된다.(가중치를 그 층의 파라미터라고도 함)\n",
    "- 즉, 딥러닝 학습은 주어진 입력을 정확한 타깃에 매핑하기 위해 신경망의 모든 층에 있는 가중치 값을 찾는 것이다.\n",
    "<img src = 'https://thebook.io/img/006975/036_1.jpg' width ='40%' height='40%'/>\n",
    "<br><br>\n",
    "\n",
    "- 정확한 값을 찾는 것은 매우 어렵다. 파라미터 하나의 값을 바꾸면 모든 파라미터에 영향을 끼치기 때문이다.\n",
    "- 신경망 출력을 제어하기 위해서는 손실함수(loss function)로 출력이 기댓값에서 얼마나 벗어났는지 측정해야 한다.<br>신경망 예측을 측정하기 위해 손실함수가 신경망의 예측과 기대하는 진짜 타깃의 차이를 점수로 계산한다.<br>(손실함수는 목적함수, 비용함수라고도 불린다)\n",
    "<img src = 'https://thebook.io/img/006975/036_2.jpg' width ='40%' height='40%'/>\n",
    "<br><br>\n",
    "\n",
    "- 딥러닝 방식은 위 예측 점수를 피드백 신호로 사용하여 손실 점수가 감소되는 방향으로 가중치 값을 조금씩 수정하는 것이다.\n",
    "- 수정과정은 역전파 알고리즘을 구현한 옵티마이저(optimizer)가 담당한다.<br>초기에는 랜덤한 가중치로 변환하여 수정하면서 훈련 반복을 통해 점진적으로 올바른 방향으로 조정되고 손실 점수가 감소한다.<br>충분한 횟수만큼 반복하면 손실함수를 최소화하는 가중치 값을 산출한다.\n",
    "<img src = 'https://thebook.io/img/006975/037.jpg' width ='40%' height='40%'/>\n",
    "<br><br>"
   ]
  },
  {
   "cell_type": "markdown",
   "id": "f27b3fe4-d622-4675-847d-bfcfc0cf44a0",
   "metadata": {},
   "source": [
    "## 신경망의 수학적 구성 요소\n",
    "### 1. 신경망 맛보기\n",
    "- Dense : 신경망층\n",
    "- optimizer : 옵티마이저, 입력된 데이터와 손실함수 기반으로 네트워크 업데이트\n",
    "- loss : 손실함수, 훈련데이터에서 신경망 성능을 측정하는 방법으로 네트워크가 옳은 방향으로 학습될 수 있도록 도움\n",
    "<br><br>\n",
    "- 옵티마이저는 손실에 대한 그래디언트가 파라미터를 업데이트하는 정확한 방식으로<br>RMSProp 옵티마이저와 모멘텀을 사용한 SGD 등이 있다."
   ]
  },
  {
   "cell_type": "code",
   "execution_count": 7,
   "id": "e6d46cc7-4f66-4ada-9844-7a867466807b",
   "metadata": {},
   "outputs": [
    {
     "name": "stdout",
     "output_type": "stream",
     "text": [
      "(60000, 28, 28) (60000,) (10000, 28, 28) (10000,)\n"
     ]
    }
   ],
   "source": [
    "## 신경망 훈련 준비 -----------------------------------------------------------\n",
    "# 1) 데이터셋 구성\n",
    "from keras.datasets import mnist\n",
    "(train_images, train_labels), (test_images, test_labels) = mnist.load_data()\n",
    "print(train_images.shape, train_labels.shape, test_images.shape, test_labels.shape)\n",
    "\n",
    "# 2) 신경망 구성\n",
    "from keras import models\n",
    "from keras import layers\n",
    "\n",
    "network = models.Sequential()\n",
    "network.add(layers.Dense(512, activation='relu', input_shape=(28*28, )))\n",
    "network.add(layers.Dense(10, activation='softmax'))\n",
    "\n",
    "# 3) 컴파일 단계\n",
    "network.compile(optimizer='rmsprop',\n",
    "                loss='categorical_crossentropy',\n",
    "                metrics=['accuracy'])"
   ]
  },
  {
   "cell_type": "code",
   "execution_count": 8,
   "id": "1cc27f1a-3610-4185-a72f-f888a71355af",
   "metadata": {},
   "outputs": [],
   "source": [
    "## 데이터 전처리 -----------------------------------------------------------\n",
    "# 1) 이미지데이터 one-hot 인코딩 스케일 조정\n",
    "train_images = train_images.reshape((60000, 28*28))\n",
    "train_images = train_images.astype('float32')/255\n",
    "\n",
    "test_images = test_images.reshape((10000, 28*28))\n",
    "test_images = test_images.astype('float32')/255\n",
    "\n",
    "# 2) 레이블데이터 범주형 인코딩\n",
    "from keras.utils.np_utils import to_categorical\n",
    "train_labels = to_categorical(train_labels)\n",
    "test_labels = to_categorical(test_labels)"
   ]
  },
  {
   "cell_type": "code",
   "execution_count": 9,
   "id": "baf75041-14eb-4876-83a7-6cbb168a6fc9",
   "metadata": {},
   "outputs": [
    {
     "name": "stdout",
     "output_type": "stream",
     "text": [
      "Epoch 1/5\n",
      "469/469 [==============================] - 2s 4ms/step - loss: 0.2589 - accuracy: 0.9253\n",
      "Epoch 2/5\n",
      "469/469 [==============================] - 2s 4ms/step - loss: 0.1034 - accuracy: 0.9696\n",
      "Epoch 3/5\n",
      "469/469 [==============================] - 2s 4ms/step - loss: 0.0674 - accuracy: 0.9798\n",
      "Epoch 4/5\n",
      "469/469 [==============================] - 2s 4ms/step - loss: 0.0492 - accuracy: 0.9850\n",
      "Epoch 5/5\n",
      "469/469 [==============================] - 2s 4ms/step - loss: 0.0369 - accuracy: 0.9890\n"
     ]
    },
    {
     "data": {
      "text/plain": [
       "<keras.callbacks.History at 0x26950b58c10>"
      ]
     },
     "execution_count": 9,
     "metadata": {},
     "output_type": "execute_result"
    }
   ],
   "source": [
    "## 신경망 훈련 -----------------------------------------------------------\n",
    "network.fit(train_images, train_labels, epochs=5, batch_size=128)"
   ]
  },
  {
   "cell_type": "code",
   "execution_count": 11,
   "id": "5548f6fc-40b0-47f6-9fe6-d1115606a873",
   "metadata": {},
   "outputs": [
    {
     "name": "stdout",
     "output_type": "stream",
     "text": [
      "313/313 [==============================] - 1s 3ms/step - loss: 0.0691 - accuracy: 0.9788\n",
      "test_loss : 0.06907019019126892\n",
      "test_acc : 0.9787999987602234\n"
     ]
    }
   ],
   "source": [
    "test_loss, test_acc = network.evaluate(test_images, test_labels)\n",
    "print('test_loss :', test_loss)\n",
    "print('test_acc :', test_acc)\n",
    "\n",
    "# 훈련정확도 0.989 > 테스트 정확도 0.979"
   ]
  },
  {
   "cell_type": "markdown",
   "id": "e84249d3-07a6-4bce-980e-46c337a78bbd",
   "metadata": {},
   "source": [
    "### 2. 데이터 표현\n",
    "- 텐서(tensor) : 머신러닝 기본 데이터 구조, 다차원 넘파이 배열로 차원(demension)을 축(axis)이라고 부른다.\n",
    "- <b>스칼라(0차원 텐서)</b> : 하나의 숫자만 담고 있는 텐서\n",
    "- <b>벡터(1차원 텐서)</b> : 숫자의 배열\n",
    "- <b>행렬(2차원 텐서)</b> : 벡터의 배열\n",
    "- 행렬의 크기가 (3,5)이고 3차원 텐서의 크기는 (3, 3, 5)\n",
    "\n",
    "- ndim 속성 : 넘파이 배열 축 개수(랭크; rank) 확인"
   ]
  },
  {
   "cell_type": "code",
   "execution_count": 13,
   "id": "162c830a-1137-47e0-bfe4-9ea55587ec12",
   "metadata": {},
   "outputs": [
    {
     "name": "stdout",
     "output_type": "stream",
     "text": [
      "스칼라 : 12\n",
      "rank : 0\n",
      "벡터 : [12  3  6 14  7]\n",
      "rank : 1\n",
      "행렬 : [12  3  6 14  7]\n",
      "rank : 1\n"
     ]
    }
   ],
   "source": [
    "import numpy as np\n",
    "\n",
    "## 1) 스칼라(0D 텐서)\n",
    "x0 = np.array(12)\n",
    "print('스칼라 :', x0)\n",
    "print('rank :', x0.ndim)\n",
    "\n",
    "## 2) 벡터(1D 텐서)\n",
    "x1 = np.array([12, 3, 6, 14, 7])\n",
    "print('벡터 :', x1)\n",
    "print('rank :', x1.ndim)\n",
    "\n",
    "## 3) 행렬(2D 텐서)\n",
    "x2 = np.array([12, 3, 6, 14, 7])\n",
    "print('행렬 :', x2)\n",
    "print('rank :', x2.ndim)"
   ]
  },
  {
   "cell_type": "code",
   "execution_count": 25,
   "id": "7bf40a64-b1ec-4268-b4a1-0a1316781e57",
   "metadata": {},
   "outputs": [
    {
     "name": "stdout",
     "output_type": "stream",
     "text": [
      "(100, 28, 28)\n",
      "(100, 28, 28)\n",
      "(100, 28, 28)\n"
     ]
    }
   ],
   "source": [
    "## 4) 넘파이 텐서 조작\n",
    "(train_images, train_labels), (test_images, test_labels) = mnist.load_data()\n",
    "\n",
    "ex_tensor = train_images[:100]\n",
    "print(ex_tensor.shape)\n",
    "\n",
    "ex_tensor = train_images[:100, :, :]\n",
    "print(ex_tensor.shape)\n",
    "\n",
    "ex_tensor = train_images[:100, :28, :28]\n",
    "print(ex_tensor.shape)"
   ]
  },
  {
   "cell_type": "code",
   "execution_count": 26,
   "id": "53c6c728-3a3c-401f-b251-5baf13673fb7",
   "metadata": {},
   "outputs": [
    {
     "name": "stdout",
     "output_type": "stream",
     "text": [
      "(300, 20)\n",
      "(100, 60)\n",
      "(20, 300)\n"
     ]
    }
   ],
   "source": [
    "## 5) 텐서 크기 변환 : 신경망에 주입할 숫자 데이터 전처리에 사용\n",
    "x = np.zeros((300, 20))\n",
    "print(x.shape)\n",
    "\n",
    "x = x.reshape((100,60))\n",
    "print(x.shape)\n",
    "\n",
    "# 전치(transposition)\n",
    "x = np.zeros((300, 20))\n",
    "x = np.transpose(x)\n",
    "print(x.shape)"
   ]
  },
  {
   "cell_type": "markdown",
   "id": "8de489c8-c64a-45ab-80b4-307e50e81c6a",
   "metadata": {},
   "source": [
    "### 3. 신경망 구조\n",
    "#### 1) <b>층(Layer)</b>\n",
    "- 층(layer)은 딥러닝의 구성 단위로 하나 이상의 텐서를 입력받아 하나 이상의 텐서를 출력하는 데이터 처리 모듈이다.\n",
    "- 대부분의 경우 가중치를 가지며 이때 가중치는 층의 상태를 말한다.<br>가중치는 확률적 경사 하강법으로 학습되는 하나 이상의 텐서로 네트워크가 학습한 지식이 담겨있다.\n",
    "- 층마다 적절한 텐서와 데이터 처리방식이 다르다.<br>\n",
    "2D 텐서가 저장된 간단한 벡터 데이터는 완전연결층(fully connected), 밀집층(dense)<br>\n",
    "3D 텐서로 저장된 시퀀스 데이터는 LSTM 같은 순환층(recurrent)<br>\n",
    "4D 텐서로 저장된 이미지 데이터는 2D 합성곱층(convolution)에 의해 처리된다.\n",
    "\n",
    "#### 2) <b>모델</b>\n",
    "- 모델은 층의 네트워크로 하나의 입력을 하나의 출력으로 매핑하는 층을 순서대로 쌓는 것이다.\n",
    "\n",
    "#### 3) <b>손실함수와 옵티마이저</b>\n",
    "- 손실함수 : 훈련하는 동안 최소화될 값으로 주어진 문제에 대한 성공지표가 된다.\n",
    "- 옵티마이저 : 손실함수를 기반으로 네트워크가 어떻게 업데이트될지 결정하며, <br>특정 종류의 확률적 경사 하강법(SGD)을 구현한다."
   ]
  }
 ],
 "metadata": {
  "kernelspec": {
   "display_name": "keras_kernel",
   "language": "python",
   "name": "keras"
  },
  "language_info": {
   "codemirror_mode": {
    "name": "ipython",
    "version": 3
   },
   "file_extension": ".py",
   "mimetype": "text/x-python",
   "name": "python",
   "nbconvert_exporter": "python",
   "pygments_lexer": "ipython3",
   "version": "3.8.13"
  }
 },
 "nbformat": 4,
 "nbformat_minor": 5
}
