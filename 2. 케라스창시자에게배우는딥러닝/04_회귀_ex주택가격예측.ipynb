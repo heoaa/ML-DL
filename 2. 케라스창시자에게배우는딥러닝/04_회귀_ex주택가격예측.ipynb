{
 "cells": [
  {
   "cell_type": "markdown",
   "id": "5dd426f8-9db9-405f-be97-a6c7b973715c",
   "metadata": {},
   "source": [
    "## 회귀(Regression)\n",
    "### ex) 주택 가격 예측하기\n",
    "- 보스턴 외곽 지역 범죄율, 지방세율 등 데이터를 이용해 주택 가격의 중간값 예측\n",
    "- 참고 : https://github.com/gilbutITbook/006975/blob/master/3.6-predicting-house-prices.ipynb\n",
    "\n",
    "- <b>Boston housing 데이터셋</b> :<br>\n",
    "각 특성(feature)의 스케일이 서로 다른 입력 데이터로 주택 가격 예측할 수 있는 데이터"
   ]
  },
  {
   "cell_type": "markdown",
   "id": "a69828f7-3444-4f85-9dfd-932a8bf815bc",
   "metadata": {},
   "source": [
    "### 1. 데이터셋 로드"
   ]
  },
  {
   "cell_type": "code",
   "execution_count": 1,
   "id": "3cebd4d8-08c3-425c-b31f-45ea19b9842f",
   "metadata": {},
   "outputs": [
    {
     "name": "stdout",
     "output_type": "stream",
     "text": [
      "Downloading data from https://storage.googleapis.com/tensorflow/tf-keras-datasets/boston_housing.npz\n",
      "57026/57026 [==============================] - 0s 5us/step\n"
     ]
    }
   ],
   "source": [
    "from keras.datasets import boston_housing\n",
    "(train_data, train_targets), (test_data, test_targets) = boston_housing.load_data()"
   ]
  },
  {
   "cell_type": "code",
   "execution_count": 3,
   "id": "e739cc00-3b72-42e4-9a43-ba2b68a5bb3c",
   "metadata": {},
   "outputs": [
    {
     "name": "stdout",
     "output_type": "stream",
     "text": [
      "(404, 13) (102, 13)\n"
     ]
    }
   ],
   "source": [
    "print(train_data.shape, test_data.shape)\n",
    "\n",
    "# 13개의 수치 특성이 있음"
   ]
  },
  {
   "cell_type": "markdown",
   "id": "82cc5777-888c-4595-9689-e154c1adc2da",
   "metadata": {},
   "source": [
    "1) Per capita crime rate(1인당 범죄율).\n",
    "2) Proportion of residential land zoned for lots over 25,000 square feet(25,000평방피트 이상의 부지로 구획된 주거용 토지의 비율).\n",
    "3) Proportion of non-retail business acres per town(도시당 비소매업 에이커의 비율).\n",
    "4) Charles River dummy variable (= 1 if tract bounds river; 0 otherwise)(Charles River 더미 변수(= 지역이 강 경계이면 1, 그렇지 않으면 0)).\n",
    "5) Nitric oxides concentration (parts per 10 million)(산화질소 농도(1000만분의 1)).\n",
    "6) Average number of rooms per dwelling(가구당 평균 방 수).\n",
    "7) Proportion of owner-occupied units built prior to 1940(1940년 이전에 건축된 소유주가 차지하는 비율).\n",
    "8) Weighted distances to five Boston employment centres(5개의 보스턴 고용 센터까지의 가중 거리).\n",
    "9) Index of accessibility to radial highways(방사형 고속도로 접근성 지수).\n",
    "10) Full-value property-tax rate per $10,000($10,000당 전체 가치 재산세율).\n",
    "11) Pupil-teacher ratio by town(도시별 학생-교사 비율).\n",
    "12) 1000 * (Bk - 0.63) ** 2 where Bk is the proportion of Black people by town(1000 * (Bk - 0.63) ** 2 여기서 Bk는 도시별 흑인 비율입니다).\n",
    "13) % lower status of the population(인구의 % 낮은 지위)."
   ]
  },
  {
   "cell_type": "markdown",
   "id": "b407e5c8-085c-4542-81c0-89702617f0de",
   "metadata": {},
   "source": [
    "### 2. 데이터 준비\n",
    "상이한 스케일을 가진 값을 신경망에 주입하게 되면 학습을 어렵게 만들게 된다. \n",
    "<br> 특성의 스케일이 다르면 전역 최소점을 찾아가는 경사하강법 경로가 스케일이 큰 특성의 영향을 많이 받는다.\n",
    "<br> 이런 경우에는 특성별로 표준화(정규화)가 필요하다. 표준화는 입력데이터에 있는 각 특성에 대해 특성의 평균을 빼고 표준편차로 나누면 된다."
   ]
  },
  {
   "cell_type": "code",
   "execution_count": 5,
   "id": "5c4b1771-a439-42da-abcf-c4496148b2d3",
   "metadata": {},
   "outputs": [],
   "source": [
    "# 데이터 표준화\n",
    "mean = train_data.mean(axis=0)\n",
    "std = train_data.std(axis=0)\n",
    "scaled_train_data = (train_data - mean)/std"
   ]
  },
  {
   "cell_type": "markdown",
   "id": "b5795cec-d51f-4b80-88e3-9b828148d9aa",
   "metadata": {},
   "source": [
    "### 3. 모델 구성"
   ]
  },
  {
   "cell_type": "code",
   "execution_count": 7,
   "id": "3839e519-077c-4649-9208-77dc31ed9bd1",
   "metadata": {},
   "outputs": [
    {
     "data": {
      "text/plain": [
       "(404, 13)"
      ]
     },
     "execution_count": 7,
     "metadata": {},
     "output_type": "execute_result"
    }
   ],
   "source": [
    "scaled_train_data.shape"
   ]
  },
  {
   "cell_type": "code",
   "execution_count": 10,
   "id": "cc4a664b-a14d-4807-a3c7-9d71aabbb471",
   "metadata": {},
   "outputs": [],
   "source": [
    "from keras import models\n",
    "from keras import layers\n",
    "\n",
    "# 모델 함수화\n",
    "def build_model() : \n",
    "    # 모델 생성\n",
    "    model = models.Sequential()\n",
    "    model.add(layers.Dense(64, activation='relu', \n",
    "                           input_shape=(scaled_train_data.shape[1], )))  # 특성 개수\n",
    "    model.add(layers.Dense(64, activation='relu'))\n",
    "    model.add(layers.Dense(1))\n",
    "    \n",
    "    # 모델 컴파일\n",
    "    model.compile(optimizer='rmsprop', \n",
    "                  loss='mse', \n",
    "                  metrics=['mae'])\n",
    "    return model"
   ]
  },
  {
   "cell_type": "markdown",
   "id": "0e2475c4-40d7-4530-98b1-7eb81ff65680",
   "metadata": {},
   "source": [
    "스칼라 회귀(하나의 연속적 값 예측)를 위한 구성으로 마지막 층(선형층)은 하나의 유닛을 가지고 활성화함수가 없다. <br>\n",
    "활성화함수를 적용하면 출력값 범위를 제한하게 되기 때문에 선형 네트워크에서는 어떤 범위값이라도 자유롭게 학습된다.<br>\n",
    "회귀의 손실함수는 예측과 타깃 사이 거리의 제곱인 평균제곱오차(mean squared error)를 사용하며, <br>\n",
    "모니터링은 예측과 타깃 사이 거리의 절댓값인 평균절대오차(mean absolute error)를 측정한다.\n",
    "- 회귀 손실함수 : mse\n",
    "- 회귀 모니터링 지표 : mae"
   ]
  },
  {
   "cell_type": "markdown",
   "id": "8207efd6-0a6d-4201-b8d1-37e336a96a9f",
   "metadata": {},
   "source": [
    "### 4. 훈련 검증(k-겹 검증)"
   ]
  },
  {
   "cell_type": "markdown",
   "id": "a8a9c039-45bf-4843-a31d-ec2db2067d0c",
   "metadata": {},
   "source": [
    "우리는 훈련에 사용하는 매개변수들(에포크수 등)을 조정하면서 모델을 평가하기 위해 데이터를 훈련/검증셋으로 나눈다.<br>\n",
    "데이터가 적은 경우는 나누면 더 작아지므로 신뢰있는 모델 평가를 할 수 없다. 이런 경우 K-겹 교차검증(k-fold cross-validation)을 사용한다.<br>\n",
    "<br> 데이터를 k개 분할(폴드)로 나누고 k개의 모델을 각각 만들어 k-1개 분할에서 훈련하고 나머지 분할에서 평가하는 방법으로\n",
    "<br>검증 점수는 k개 검증 점수 평균이다.\n",
    "<br><br><img src = 'https://thebook.io/img/006975/130.jpg' width ='60%' height='60%'/>"
   ]
  },
  {
   "cell_type": "markdown",
   "id": "1f8537b5-d443-42b3-8d02-eaa1030771ac",
   "metadata": {},
   "source": [
    "##### 에포크 = 100"
   ]
  },
  {
   "cell_type": "code",
   "execution_count": 17,
   "id": "67cbd0ee-ecf9-41bf-a364-18a582237c8d",
   "metadata": {},
   "outputs": [
    {
     "name": "stdout",
     "output_type": "stream",
     "text": [
      "처리중인 폴드 # 0\n",
      "처리중인 폴드 # 1\n",
      "처리중인 폴드 # 2\n",
      "처리중인 폴드 # 3\n"
     ]
    }
   ],
   "source": [
    "# k-겹 교차검증\n",
    "import numpy as np\n",
    "\n",
    "k = 4\n",
    "num_val_samples = len(scaled_train_data) // k\n",
    "num_epochs = 100\n",
    "all_scores = []\n",
    "\n",
    "for i in range(k) :\n",
    "    print('처리중인 폴드 #', i)\n",
    "    val_data = scaled_train_data[i*num_val_samples : (i+1)*num_val_samples]\n",
    "    val_targets = train_targets[i*num_val_samples : (i+1)*num_val_samples]\n",
    "    \n",
    "    partial_train_data = np.concatenate(\n",
    "        [scaled_train_data[ : i*num_val_samples],\n",
    "         scaled_train_data[(i+1)*num_val_samples : ]], axis = 0)\n",
    "    partial_train_targets = np.concatenate(\n",
    "        [train_targets[ : i*num_val_samples],\n",
    "         train_targets[(i+1)*num_val_samples : ]], axis = 0)\n",
    "    \n",
    "    model = build_model()   # 위에서 생성한 모델 함수\n",
    "    model.fit(partial_train_data, \n",
    "              partial_train_targets,\n",
    "              epochs = num_epochs,\n",
    "              batch_size = 1,\n",
    "              verbose = 0)  # verbose = 0 : 훈련과정 출력하지 않음\n",
    "    \n",
    "    # 검증 세트로 모델 평가\n",
    "    val_mse, val_mae = model.evaluate(val_data, val_targets, verbose = 0)\n",
    "    all_scores.append(val_mae)"
   ]
  },
  {
   "cell_type": "code",
   "execution_count": 24,
   "id": "bd5c5e27-a424-442f-8c09-a765f625ebc7",
   "metadata": {},
   "outputs": [
    {
     "data": {
      "text/plain": [
       "[2.0823559761047363, 2.590374231338501, 2.5613133907318115, 2.561105489730835]"
      ]
     },
     "execution_count": 24,
     "metadata": {},
     "output_type": "execute_result"
    }
   ],
   "source": [
    "all_scores # 폴드별 검증 점수"
   ]
  },
  {
   "cell_type": "code",
   "execution_count": 25,
   "id": "3672edbb-e3e6-4885-be67-90d31cf8157e",
   "metadata": {},
   "outputs": [
    {
     "data": {
      "text/plain": [
       "2.448787271976471"
      ]
     },
     "execution_count": 25,
     "metadata": {},
     "output_type": "execute_result"
    }
   ],
   "source": [
    "np.mean(all_scores) # 최종 점수"
   ]
  },
  {
   "cell_type": "markdown",
   "id": "a90096a5-3138-457d-8673-8c7b9d777cca",
   "metadata": {},
   "source": [
    "검증셋이 달라 검증점수의 변화가 2.0에서 2.7까지 크게 나타난다. 평균값(2.5)이 각각의 점수보다 신뢰할 만한 점수다."
   ]
  },
  {
   "cell_type": "markdown",
   "id": "878e77d0-16c1-443e-9277-7d34942c1ad6",
   "metadata": {},
   "source": [
    "##### 에포크 = 500"
   ]
  },
  {
   "cell_type": "code",
   "execution_count": 26,
   "id": "511d11b4-203c-423a-817e-3ee923732fd1",
   "metadata": {},
   "outputs": [],
   "source": [
    "from keras import backend as K\n",
    "\n",
    "# 메모리 해제\n",
    "K.clear_session()"
   ]
  },
  {
   "cell_type": "code",
   "execution_count": 29,
   "id": "a272d4c6-1641-4de0-b6b9-d806825f66d5",
   "metadata": {
    "tags": []
   },
   "outputs": [
    {
     "name": "stdout",
     "output_type": "stream",
     "text": [
      "처리중인 폴드 # 0\n",
      "dict_keys(['loss', 'mae', 'val_loss', 'val_mae'])\n",
      "처리중인 폴드 # 1\n",
      "dict_keys(['loss', 'mae', 'val_loss', 'val_mae'])\n",
      "처리중인 폴드 # 2\n",
      "dict_keys(['loss', 'mae', 'val_loss', 'val_mae'])\n",
      "처리중인 폴드 # 3\n",
      "dict_keys(['loss', 'mae', 'val_loss', 'val_mae'])\n"
     ]
    }
   ],
   "source": [
    "# k-겹 교차검증\n",
    "import numpy as np\n",
    "\n",
    "k = 4\n",
    "num_val_samples = len(scaled_train_data) // k\n",
    "numnum_epochshs = 500\n",
    "all_mae_histories = []\n",
    "\n",
    "for i in range(k) :\n",
    "    print('처리중인 폴드 #', i)\n",
    "    val_data = scaled_train_data[i*num_val_samples : (i+1)*num_val_samples]\n",
    "    val_targets = train_targets[i*num_val_samples : (i+1)*num_val_samples]\n",
    "    \n",
    "    partial_train_data = np.concatenate(\n",
    "        [scaled_train_data[ : i*num_val_samples],\n",
    "         scaled_train_data[(i+1)*num_val_samples : ]], axis = 0)\n",
    "    partial_train_targets = np.concatenate(\n",
    "        [train_targets[ : i*num_val_samples],\n",
    "         train_targets[(i+1)*num_val_samples : ]], axis = 0)\n",
    "    \n",
    "    model = build_model()   # 위에서 생성한 모델 함수\n",
    "    history = model.fit(partial_train_data, \n",
    "                        partial_train_targets,\n",
    "                        validation_data=(val_data, val_targets),\n",
    "                        epochs = num_epochs,\n",
    "                        batch_size = 1,\n",
    "                        verbose = 0)  # verbose = 0 : 훈련과정 출력하지 않음\n",
    "    print(history.history.keys())\n",
    "    mae_history = history.history['val_mae']\n",
    "    all_mae_histories.append(mae_history)"
   ]
  },
  {
   "cell_type": "code",
   "execution_count": 32,
   "id": "e67a1cd9-b8e4-4c29-855c-a8bbad87739c",
   "metadata": {},
   "outputs": [],
   "source": [
    "# k-겹 검증 점수 평균 기록\n",
    "average_mae_history = [\n",
    "    np.mean([ x[i] for x in all_mae_histories]) for i in range(num_epochs) ]"
   ]
  },
  {
   "cell_type": "code",
   "execution_count": 33,
   "id": "013849bd-28ba-4e2f-87aa-3ab739d96b9e",
   "metadata": {},
   "outputs": [
    {
     "data": {
      "image/png": "[encoded data removed]",
      "text/plain": [
       "<Figure size 432x288 with 1 Axes>"
      ]
     },
     "metadata": {
      "needs_background": "light"
     },
     "output_type": "display_data"
    }
   ],
   "source": [
    "# 검증 점수 그래프\n",
    "import matplotlib.pyplot as plt\n",
    "plt.plot(range(1, len(average_mae_history) + 1), average_mae_history)\n",
    "plt.xlabel('Epochs')\n",
    "plt.ylabel('Validation MAE')\n",
    "plt.show()"
   ]
  },
  {
   "cell_type": "markdown",
   "id": "e2ae1db0-59ce-4101-8575-e9e0499c9f40",
   "metadata": {},
   "source": [
    "해당 그래프는 변동이 심하고 보기 어려우므로 범위 차이가 많이 나는 첫 10개 데이터를 제외시키고<br>\n",
    "부드러운 곡선을 얻기 위해 지수이동평균을 활용.\n",
    "- 지수이동평균 : 시계열 데이터를 부드럽게 만드는 기법<br>(이전에 계산된 이동평균 x factor) + (현재 포인트 x (1-factor))"
   ]
  },
  {
   "cell_type": "code",
   "execution_count": 40,
   "id": "8445bf9a-bac7-48d1-96bd-8a0b75507d42",
   "metadata": {},
   "outputs": [],
   "source": [
    "# 처음 10개 데이터 제외한 검증 점수 그래프\n",
    "\n",
    "# 지수이동평균 함수\n",
    "def smooth_curve(points, factor=0.9):\n",
    "    smoothed_points = []\n",
    "    for point in points:\n",
    "        if smoothed_points:\n",
    "            previous = smoothed_points[-1]\n",
    "            smoothed_points.append(previous * factor + point * (1 - factor))\n",
    "        else:\n",
    "            smoothed_points.append(point)\n",
    "    return smoothed_points\n",
    "\n",
    "# 검증점수의 지수이동평균화\n",
    "smooth_mae_history = smooth_curve(average_mae_history[10:])"
   ]
  },
  {
   "cell_type": "code",
   "execution_count": 53,
   "id": "5b880501-ec28-447d-a8a2-2a73c4bdc846",
   "metadata": {},
   "outputs": [
    {
     "data": {
      "image/png": "[encoded data removed]",
      "text/plain": [
       "<Figure size 1800x720 with 1 Axes>"
      ]
     },
     "metadata": {
      "needs_background": "light"
     },
     "output_type": "display_data"
    }
   ],
   "source": [
    "plt.figure(figsize=(25, 10))\n",
    "plt.plot(range(1, len(smooth_mae_history) + 1), smooth_mae_history)\n",
    "plt.xlabel('Epochs')\n",
    "plt.ylabel('Validation MAE')\n",
    "plt.xticks(np.arange(0,500,5))\n",
    "plt.show()"
   ]
  },
  {
   "cell_type": "markdown",
   "id": "9ef71f41-aa54-4ee7-ab98-5fb8bb15a19d",
   "metadata": {},
   "source": [
    "이 그래프를 보면 검증MAE가 65번째 에포크 이후에 줄어드는 것을 멈추었다. 이 지점 이후로는 과대적합이 시작된다. <br>\n",
    "모델의 여러 매개변수에 대한 튜닝(에포크수, 은닉층 크기 등)이 끝나면 테스트 데이터로 성능을 확인한다. "
   ]
  },
  {
   "cell_type": "markdown",
   "id": "e45e4974-d067-49fe-ac1c-d1da430c8b2e",
   "metadata": {},
   "source": [
    "### 5. 최종 모델 훈련"
   ]
  },
  {
   "cell_type": "code",
   "execution_count": 54,
   "id": "1580c539-f790-485a-b2d0-d47385dc14de",
   "metadata": {},
   "outputs": [
    {
     "name": "stdout",
     "output_type": "stream",
     "text": [
      "4/4 [==============================] - 0s 1ms/step - loss: 5633207.0000 - mae: 2340.4072\n"
     ]
    }
   ],
   "source": [
    "model = build_model()\n",
    "model.fit(scaled_train_data, train_targets,\n",
    "          epochs = 65,\n",
    "          batch_size = 16,\n",
    "          verbose = 0)\n",
    "test_mse_score, test_mae_score = model.evaluate(test_data, test_targets)"
   ]
  },
  {
   "cell_type": "code",
   "execution_count": 57,
   "id": "9fbdf845-ded8-4009-88b5-9230675a04da",
   "metadata": {},
   "outputs": [
    {
     "data": {
      "text/plain": [
       "2340.4072265625"
      ]
     },
     "execution_count": 57,
     "metadata": {},
     "output_type": "execute_result"
    }
   ],
   "source": [
    "test_mae_score\n",
    "\n",
    "# 2,340달러 정도 차이가 난다."
   ]
  }
 ],
 "metadata": {
  "kernelspec": {
   "display_name": "django2_kernel",
   "language": "python",
   "name": "django2"
  },
  "language_info": {
   "codemirror_mode": {
    "name": "ipython",
    "version": 3
   },
   "file_extension": ".py",
   "mimetype": "text/x-python",
   "name": "python",
   "nbconvert_exporter": "python",
   "pygments_lexer": "ipython3",
   "version": "3.10.5"
  }
 },
 "nbformat": 4,
 "nbformat_minor": 5
}
