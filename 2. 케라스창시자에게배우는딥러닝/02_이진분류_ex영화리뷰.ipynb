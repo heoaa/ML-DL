{
 "cells": [
  {
   "cell_type": "markdown",
   "id": "9ac44b85-b190-4337-9e48-12efa362d713",
   "metadata": {},
   "source": [
    "## 이진분류(Binary classification)\n",
    "### ex) 영화 리뷰 분류하기\n",
    "- 리뷰 텍스트를 기반으로 긍/부정 분류\n",
    "- 참고 : https://github.com/gilbutITbook/006975/blob/master/3.4-classifying-movie-reviews.ipynb\n",
    "\n",
    "- <b>IMDB 데이터셋</b> :<br>\n",
    "인터넷 영화 데이터베이스 리뷰 5만개로 이뤄진 데이터로<br>\n",
    "훈련데이터 25000개와 테스트데이터 25000개로 나뉘어 있고 각각 50%씩 긍/부정으로 구성되어 있다."
   ]
  },
  {
   "cell_type": "markdown",
   "id": "8ad34959-0282-42de-bbda-5f67ff8950b7",
   "metadata": {
    "tags": []
   },
   "source": [
    "### 1. 데이터셋 로드"
   ]
  },
  {
   "cell_type": "code",
   "execution_count": 1,
   "id": "305aeed3-dc33-4f89-b351-cb5801f9349a",
   "metadata": {},
   "outputs": [],
   "source": [
    "from keras.datasets import imdb\n",
    "(train_data, train_labels), (test_data, test_labels) = imdb.load_data(\n",
    "    num_words=10000)\n",
    "\n",
    "# num_words=10000\n",
    "# : 훈련데이터에서 가장 자주 나타나는 단어 10000개만 사용(드물게 나타나는 단어 무시)"
   ]
  },
  {
   "cell_type": "code",
   "execution_count": 2,
   "id": "d1277b13-4d03-4238-8580-e7b7f33d0de5",
   "metadata": {},
   "outputs": [],
   "source": [
    "## 리뷰 확인해보기\n",
    "word_index = imdb.get_word_index()\n",
    "reverse_word_index = dict(\n",
    "    [(value, key) for (key, value) in word_index.items()])\n",
    "decode_review = ' '.join(\n",
    "    [reverse_word_index.get(i - 3, '?') for i in train_data[0]])"
   ]
  },
  {
   "cell_type": "code",
   "execution_count": 3,
   "id": "9b9ef798-7ee7-4453-8ad2-3e0e64633d7d",
   "metadata": {},
   "outputs": [
    {
     "data": {
      "text/plain": [
       "\"? this film was just brilliant casting location scenery story direction everyone's really suited the part they played and you could just imagine being there robert ? is an amazing actor and now the same being director ? father came from the same scottish island as myself so i loved the fact there was a real connection with this film the witty remarks throughout the film were great it was just brilliant so much that i bought the film as soon as it was released for ? and would recommend it to everyone to watch and the fly fishing was amazing really cried at the end it was so sad and you know what they say if you cry at a film it must have been good and this definitely was also ? to the two little boy's that played the ? of norman and paul they were just brilliant children are often left out of the ? list i think because the stars that play them all grown up are such a big profile for the whole film but these children are amazing and should be praised for what they have done don't you think the whole story was so lovely because it was true and was someone's life after all that was shared with us all\""
      ]
     },
     "execution_count": 3,
     "metadata": {},
     "output_type": "execute_result"
    }
   ],
   "source": [
    "decode_review"
   ]
  },
  {
   "cell_type": "markdown",
   "id": "c3308456-f6a4-476f-9554-6d2249298696",
   "metadata": {},
   "source": [
    "### 2. 데이터 준비"
   ]
  },
  {
   "cell_type": "code",
   "execution_count": 4,
   "id": "a572a0a5-995d-46a6-ace3-34b903324bb4",
   "metadata": {},
   "outputs": [
    {
     "name": "stdout",
     "output_type": "stream",
     "text": [
      "[list([1, 14, 22, 16, 43, 530, 973, 1622, 1385, 65, 458, 4468, 66, 3941, 4, 173, 36, 256, 5, 25, 100, 43, 838, 112, 50, 670, 2, 9, 35, 480, 284, 5, 150, 4, 172, 112, 167, 2, 336, 385, 39, 4, 172, 4536, 1111, 17, 546, 38, 13, 447, 4, 192, 50, 16, 6, 147, 2025, 19, 14, 22, 4, 1920, 4613, 469, 4, 22, 71, 87, 12, 16, 43, 530, 38, 76, 15, 13, 1247, 4, 22, 17, 515, 17, 12, 16, 626, 18, 2, 5, 62, 386, 12, 8, 316, 8, 106, 5, 4, 2223, 5244, 16, 480, 66, 3785, 33, 4, 130, 12, 16, 38, 619, 5, 25, 124, 51, 36, 135, 48, 25, 1415, 33, 6, 22, 12, 215, 28, 77, 52, 5, 14, 407, 16, 82, 2, 8, 4, 107, 117, 5952, 15, 256, 4, 2, 7, 3766, 5, 723, 36, 71, 43, 530, 476, 26, 400, 317, 46, 7, 4, 2, 1029, 13, 104, 88, 4, 381, 15, 297, 98, 32, 2071, 56, 26, 141, 6, 194, 7486, 18, 4, 226, 22, 21, 134, 476, 26, 480, 5, 144, 30, 5535, 18, 51, 36, 28, 224, 92, 25, 104, 4, 226, 65, 16, 38, 1334, 88, 12, 16, 283, 5, 16, 4472, 113, 103, 32, 15, 16, 5345, 19, 178, 32])\n",
      " list([1, 194, 1153, 194, 8255, 78, 228, 5, 6, 1463, 4369, 5012, 134, 26, 4, 715, 8, 118, 1634, 14, 394, 20, 13, 119, 954, 189, 102, 5, 207, 110, 3103, 21, 14, 69, 188, 8, 30, 23, 7, 4, 249, 126, 93, 4, 114, 9, 2300, 1523, 5, 647, 4, 116, 9, 35, 8163, 4, 229, 9, 340, 1322, 4, 118, 9, 4, 130, 4901, 19, 4, 1002, 5, 89, 29, 952, 46, 37, 4, 455, 9, 45, 43, 38, 1543, 1905, 398, 4, 1649, 26, 6853, 5, 163, 11, 3215, 2, 4, 1153, 9, 194, 775, 7, 8255, 2, 349, 2637, 148, 605, 2, 8003, 15, 123, 125, 68, 2, 6853, 15, 349, 165, 4362, 98, 5, 4, 228, 9, 43, 2, 1157, 15, 299, 120, 5, 120, 174, 11, 220, 175, 136, 50, 9, 4373, 228, 8255, 5, 2, 656, 245, 2350, 5, 4, 9837, 131, 152, 491, 18, 2, 32, 7464, 1212, 14, 9, 6, 371, 78, 22, 625, 64, 1382, 9, 8, 168, 145, 23, 4, 1690, 15, 16, 4, 1355, 5, 28, 6, 52, 154, 462, 33, 89, 78, 285, 16, 145, 95])]\n"
     ]
    }
   ],
   "source": [
    "print(train_data[0:2])"
   ]
  },
  {
   "cell_type": "code",
   "execution_count": 5,
   "id": "7a1ca94d-d2b9-4347-b12b-5d5b4c395f62",
   "metadata": {},
   "outputs": [],
   "source": [
    "# 정수 시퀀스를 이진 행렬로 인코딩\n",
    "import numpy as np\n",
    "\n",
    "def vectorize_sequences(sequences, dimension=10000) :\n",
    "    # 크기가 (len(sequences), dimension)인 0행렬 생성\n",
    "    results  = np.zeros((len(sequences), dimension))\n",
    "    for i, sequence in enumerate(sequences) :\n",
    "        # results[i]에서 특정 인덱스 위치를 1로 만듦\n",
    "        results[i, sequence] = 1.\n",
    "    return results\n",
    "\n",
    "x_train = vectorize_sequences(train_data)   # 훈련데이터 벡터로 변환\n",
    "x_test = vectorize_sequences(test_data)     # 테스트데이터 벡터로 변환"
   ]
  },
  {
   "cell_type": "code",
   "execution_count": 6,
   "id": "35424dc5-e1c1-4eea-8e4b-4f09e4013037",
   "metadata": {},
   "outputs": [
    {
     "data": {
      "text/plain": [
       "array([[0., 1., 1., ..., 0., 0., 0.],\n",
       "       [0., 1., 1., ..., 0., 0., 0.]])"
      ]
     },
     "execution_count": 6,
     "metadata": {},
     "output_type": "execute_result"
    }
   ],
   "source": [
    "x_train[0:2]"
   ]
  },
  {
   "cell_type": "code",
   "execution_count": 7,
   "id": "3e59c7e1-d8d8-4aa2-91aa-8854d1005b80",
   "metadata": {},
   "outputs": [],
   "source": [
    "# 레이블데이터 벡터로 변환\n",
    "y_train = np.asarray(train_labels).astype('float32')\n",
    "y_test = np.asarray(test_labels).astype('float32')"
   ]
  },
  {
   "cell_type": "markdown",
   "id": "eb5b2efa-90db-401c-bdbd-02e14ac276c3",
   "metadata": {},
   "source": [
    "### 3. 신경망 모델 만들기"
   ]
  },
  {
   "cell_type": "code",
   "execution_count": 8,
   "id": "466d0e05-ea17-412b-afcc-39b29d236858",
   "metadata": {},
   "outputs": [],
   "source": [
    "from keras import models\n",
    "from keras import layers\n",
    "\n",
    "model = models.Sequential()\n",
    "model.add(layers.Dense(16, activation='relu', input_shape=(10000,)))\n",
    "model.add(layers.Dense(16, activation='relu'))\n",
    "model.add(layers.Dense(1, activation='sigmoid'))\n",
    "                       \n",
    "# 16개의 은닉유닛을 가진 2개의 은닉층 생성\n",
    "# 현재 리뷰의 감정을 스칼라 값의 예측으로 출력하는 세번째 층\n",
    "# : 마지막 층은 0과 1사이의 점수로, 타깃이 1일 가능성이 높은 것이 \n",
    "#   리뷰가 긍정일 가능성이 높다는 확률을 의미하는 바\n",
    "#   이를 출력하기 위해 시그모이드 활성화 함수 사용"
   ]
  },
  {
   "cell_type": "code",
   "execution_count": 9,
   "id": "dae1c0ef-52d0-4ca4-8b51-c94b9f712482",
   "metadata": {},
   "outputs": [],
   "source": [
    "# 모델 컴파일 (손실함수, 옵티마이저 선택)\n",
    "# 이진 분류에서는 mean_squared_error, binary_crossentropy 손실이 적합하다.\n",
    "# 하지만 확률을 출력하는 모델을 사용할 때는 크로스엔트로피가 최선의 선택이다.\n",
    "model.compile(optimizer = 'rmsprop',\n",
    "              loss = 'binary_crossentropy',\n",
    "              metrics = ['accuracy'])"
   ]
  },
  {
   "cell_type": "markdown",
   "id": "e341cd5d-fa4b-4f49-ae5d-56ce13995aa6",
   "metadata": {},
   "source": [
    "- 이진분류에 적합한 손실함수 : mean_squared_error, binary_crossentropy\n",
    "- 이진분류이면서 확률을 출력하는 경우 적합한 손실함수 : binary_crossentropy\n",
    "<br><br>\n",
    "- 회귀문제에 적합한 손실함수 : mean_squared_error, mean_absolute_error"
   ]
  },
  {
   "cell_type": "markdown",
   "id": "a55f3c90-7e46-4cb8-a2c0-ef74626eae97",
   "metadata": {},
   "source": [
    "### 4. 훈련 검증"
   ]
  },
  {
   "cell_type": "code",
   "execution_count": 10,
   "id": "b3c6ac24-0849-4e49-b106-0978b09e98f3",
   "metadata": {},
   "outputs": [],
   "source": [
    "# 원본 훈련데이터 10000개의 샘플로 검증데이터셋 만들기\n",
    "x_val = x_train[:10000]\n",
    "partial_x_train = x_train[10000:]\n",
    "\n",
    "y_val = y_train[:10000]\n",
    "partial_y_train = y_train[10000:]"
   ]
  },
  {
   "cell_type": "code",
   "execution_count": 11,
   "id": "b5f7adea-4448-4d1d-8343-6f039a5deeca",
   "metadata": {},
   "outputs": [],
   "source": [
    "model.compile(optimizer = 'rmsprop',\n",
    "              loss = 'binary_crossentropy',\n",
    "              metrics = ['acc'])"
   ]
  },
  {
   "cell_type": "code",
   "execution_count": 12,
   "id": "f0435fcb-92f7-4640-9df1-af1a19e5f29e",
   "metadata": {},
   "outputs": [
    {
     "name": "stdout",
     "output_type": "stream",
     "text": [
      "Epoch 1/20\n",
      "30/30 [==============================] - 1s 23ms/step - loss: 0.5305 - acc: 0.7851 - val_loss: 0.4087 - val_acc: 0.8558\n",
      "Epoch 2/20\n",
      "30/30 [==============================] - 0s 12ms/step - loss: 0.3208 - acc: 0.9009 - val_loss: 0.3128 - val_acc: 0.8874\n",
      "Epoch 3/20\n",
      "30/30 [==============================] - 0s 13ms/step - loss: 0.2357 - acc: 0.9255 - val_loss: 0.2920 - val_acc: 0.8868\n",
      "Epoch 4/20\n",
      "30/30 [==============================] - 0s 11ms/step - loss: 0.1863 - acc: 0.9406 - val_loss: 0.2850 - val_acc: 0.8853\n",
      "Epoch 5/20\n",
      "30/30 [==============================] - 0s 12ms/step - loss: 0.1534 - acc: 0.9520 - val_loss: 0.2767 - val_acc: 0.8885\n",
      "Epoch 6/20\n",
      "30/30 [==============================] - 0s 12ms/step - loss: 0.1268 - acc: 0.9615 - val_loss: 0.2854 - val_acc: 0.8856\n",
      "Epoch 7/20\n",
      "30/30 [==============================] - 0s 11ms/step - loss: 0.1085 - acc: 0.9675 - val_loss: 0.2972 - val_acc: 0.8854\n",
      "Epoch 8/20\n",
      "30/30 [==============================] - 0s 13ms/step - loss: 0.0898 - acc: 0.9737 - val_loss: 0.3184 - val_acc: 0.8859\n",
      "Epoch 9/20\n",
      "30/30 [==============================] - 0s 11ms/step - loss: 0.0735 - acc: 0.9803 - val_loss: 0.3911 - val_acc: 0.8705\n",
      "Epoch 10/20\n",
      "30/30 [==============================] - 0s 12ms/step - loss: 0.0642 - acc: 0.9846 - val_loss: 0.3754 - val_acc: 0.8797\n",
      "Epoch 11/20\n",
      "30/30 [==============================] - 0s 11ms/step - loss: 0.0516 - acc: 0.9882 - val_loss: 0.3934 - val_acc: 0.8725\n",
      "Epoch 12/20\n",
      "30/30 [==============================] - 0s 11ms/step - loss: 0.0446 - acc: 0.9893 - val_loss: 0.4182 - val_acc: 0.8782\n",
      "Epoch 13/20\n",
      "30/30 [==============================] - 0s 13ms/step - loss: 0.0352 - acc: 0.9927 - val_loss: 0.4386 - val_acc: 0.8764\n",
      "Epoch 14/20\n",
      "30/30 [==============================] - 0s 12ms/step - loss: 0.0286 - acc: 0.9946 - val_loss: 0.4682 - val_acc: 0.8760\n",
      "Epoch 15/20\n",
      "30/30 [==============================] - 0s 12ms/step - loss: 0.0257 - acc: 0.9941 - val_loss: 0.4891 - val_acc: 0.8711\n",
      "Epoch 16/20\n",
      "30/30 [==============================] - 0s 12ms/step - loss: 0.0162 - acc: 0.9984 - val_loss: 0.5535 - val_acc: 0.8690\n",
      "Epoch 17/20\n",
      "30/30 [==============================] - 0s 12ms/step - loss: 0.0181 - acc: 0.9971 - val_loss: 0.5548 - val_acc: 0.8702\n",
      "Epoch 18/20\n",
      "30/30 [==============================] - 0s 12ms/step - loss: 0.0098 - acc: 0.9992 - val_loss: 0.6094 - val_acc: 0.8711\n",
      "Epoch 19/20\n",
      "30/30 [==============================] - 0s 11ms/step - loss: 0.0111 - acc: 0.9985 - val_loss: 0.6276 - val_acc: 0.8713\n",
      "Epoch 20/20\n",
      "30/30 [==============================] - 0s 11ms/step - loss: 0.0060 - acc: 0.9997 - val_loss: 0.7768 - val_acc: 0.8576\n"
     ]
    }
   ],
   "source": [
    "# 모델 훈련\n",
    "# 512개 샘플을 미니 배치로 만들어 20번의 에포크 동안 훈련\n",
    "history = model.fit(partial_x_train,\n",
    "                    partial_y_train,\n",
    "                    epochs = 20,\n",
    "                    batch_size = 512, \n",
    "                    validation_data=(x_val, y_val))  # 검증데이터 전달"
   ]
  },
  {
   "cell_type": "code",
   "execution_count": 13,
   "id": "288e4959-7141-4440-b4d7-617e807be163",
   "metadata": {},
   "outputs": [
    {
     "data": {
      "text/plain": [
       "dict_keys(['loss', 'acc', 'val_loss', 'val_acc'])"
      ]
     },
     "execution_count": 13,
     "metadata": {},
     "output_type": "execute_result"
    }
   ],
   "source": [
    "history_dict = history.history\n",
    "history_dict.keys()"
   ]
  },
  {
   "cell_type": "markdown",
   "id": "5bf43561-eb68-4108-88da-858dc07d3f8f",
   "metadata": {},
   "source": [
    "model.fit() 메서드는 History 객체를 반환한다. 이 객체는 훈련하는 동안 발생한 모든 정보를 담고 있는 딕셔너리인 history 속성을 가지고 있다.<br>\n",
    "이 딕셔너리는 훈련과 검증하는 동안 모니터링할 측정 지표당 하나씩 모두 네 개의 항목을 담고 있다."
   ]
  },
  {
   "cell_type": "code",
   "execution_count": 14,
   "id": "0587ac2d-c01f-42c8-885d-3b552407ab5c",
   "metadata": {},
   "outputs": [],
   "source": [
    "# 훈련과 검증 손실 그리기\n",
    "import matplotlib.pyplot as plt"
   ]
  },
  {
   "cell_type": "code",
   "execution_count": 15,
   "id": "9dfd6dff-6510-4800-a297-0ef76601ff4a",
   "metadata": {},
   "outputs": [],
   "source": [
    "acc = history.history['acc']\n",
    "val_acc = history.history['val_acc']\n",
    "loss = history.history['loss']\n",
    "val_loss = history.history['val_loss']\n",
    "\n",
    "epochs = range(1, len(acc) + 1)"
   ]
  },
  {
   "cell_type": "code",
   "execution_count": 16,
   "id": "e7028caf-3787-4f86-a405-81ffdb0f6147",
   "metadata": {},
   "outputs": [
    {
     "data": {
      "image/png": "[encoded data removed]",
      "text/plain": [
       "<Figure size 432x288 with 1 Axes>"
      ]
     },
     "metadata": {
      "needs_background": "light"
     },
     "output_type": "display_data"
    }
   ],
   "source": [
    "# 훈련, 검증 손실\n",
    "plt.plot(epochs, loss, 'bo', label='Training loss')   # 'bo' 파란색 점\n",
    "plt.plot(epochs, val_loss, 'b', label='Validation loss')   # 'b' 파란색 실선\n",
    "plt.title('Training and validation loss')\n",
    "plt.xlabel('Epochs')\n",
    "plt.ylabel('Loss')\n",
    "plt.legend()\n",
    "\n",
    "plt.show()"
   ]
  },
  {
   "cell_type": "code",
   "execution_count": 17,
   "id": "6a8cfe1b-6b97-4646-bf3e-07ef83d0c008",
   "metadata": {},
   "outputs": [
    {
     "data": {
      "image/png": "[encoded data removed]",
      "text/plain": [
       "<Figure size 432x288 with 1 Axes>"
      ]
     },
     "metadata": {
      "needs_background": "light"
     },
     "output_type": "display_data"
    }
   ],
   "source": [
    "plt.clf()   # 그래프 초기화\n",
    "acc = history_dict['acc']\n",
    "val_acc = history_dict['val_acc']\n",
    "\n",
    "# 훈련, 검증 정확도\n",
    "plt.plot(epochs, acc, 'bo', label='Training acc')\n",
    "plt.plot(epochs, val_acc, 'b', label='Validation acc')\n",
    "plt.title('Training and validation accuracy')\n",
    "plt.xlabel('Epochs')\n",
    "plt.ylabel('Accuracy')\n",
    "plt.legend()\n",
    "\n",
    "plt.show()"
   ]
  },
  {
   "cell_type": "markdown",
   "id": "7827ec7e-279f-4652-a0e3-ad30ecb10d27",
   "metadata": {},
   "source": [
    "훈련손실이 에포크마다 감소하고 훈련 정확도는 에포크마다 증가한다.<br>경사 하강법 최적화를 사용했을 때 반복마다 최소화되는 것이 손실이므로 기대했던 바이다.<br>\n",
    "하지만 검증손실과 정확도는 이와 같지 않다. 4번째 에포크부터 손실은 증가하고 정확도는 점점 감소하며 그래프가 역전된 것을 볼 수 있다. <br>이것이 훈련 세트에서 잘 작동하는 모델이 처음 보는 데이터에 잘 작동하지 않을 수 있다고 앞서 언급한 경고의 한 사례이다. (과대적합)<br><br>\n",
    "2번째 에포크 이후부터 훈련 데이터에 과도하게 최적화되어 훈련 데이터에 특화된 표현을 학습하므로 훈련 세트 이외의 데이터에는 일반화되지 못한다. <br>\n",
    "이런 경우 과대적합 방지를 위해 3번째 에포크 이후 훈련을 중지할 수 있다. <br><br>\n",
    "처음부터 새로운 신경망을 4번 에포크동안만 훈련후 테스트데이터에서 평가해보자"
   ]
  },
  {
   "cell_type": "code",
   "execution_count": 18,
   "id": "d4865d39-7883-4346-9763-a3ef51c99bbe",
   "metadata": {},
   "outputs": [
    {
     "name": "stdout",
     "output_type": "stream",
     "text": [
      "Epoch 1/4\n",
      "49/49 [==============================] - 1s 8ms/step - loss: 0.4818 - accuracy: 0.8093\n",
      "Epoch 2/4\n",
      "49/49 [==============================] - 0s 8ms/step - loss: 0.2757 - accuracy: 0.9078\n",
      "Epoch 3/4\n",
      "49/49 [==============================] - 0s 8ms/step - loss: 0.2100 - accuracy: 0.9282\n",
      "Epoch 4/4\n",
      "49/49 [==============================] - 0s 8ms/step - loss: 0.1723 - accuracy: 0.9389\n",
      "782/782 [==============================] - 1s 1ms/step - loss: 0.3069 - accuracy: 0.8777\n"
     ]
    }
   ],
   "source": [
    "model = models.Sequential()\n",
    "model.add(layers.Dense(16, activation='relu', input_shape=(10000,)))\n",
    "model.add(layers.Dense(16, activation='relu'))\n",
    "model.add(layers.Dense(1, activation='sigmoid'))\n",
    "\n",
    "model.compile(optimizer='rmsprop',\n",
    "              loss='binary_crossentropy',\n",
    "              metrics=['accuracy'])\n",
    "\n",
    "model.fit(x_train, y_train, epochs=4, batch_size=512)\n",
    "results = model.evaluate(x_test, y_test)"
   ]
  },
  {
   "cell_type": "code",
   "execution_count": 19,
   "id": "47f3a2f3-d2a5-4d50-8add-b8488abfa839",
   "metadata": {},
   "outputs": [
    {
     "data": {
      "text/plain": [
       "[0.30694204568862915, 0.8776800036430359]"
      ]
     },
     "execution_count": 19,
     "metadata": {},
     "output_type": "execute_result"
    }
   ],
   "source": [
    "results"
   ]
  },
  {
   "cell_type": "markdown",
   "id": "3fe7300a-cf5a-4c89-9299-13af5cbf028b",
   "metadata": {},
   "source": [
    "results 는 loss: 0.3069 - accuracy: 0.8777 로 아주 단순한 방식으로도 87%의 정확도를 달성한다.<br>\n",
    "최고수준 기법을 사용하면 95%에 가까운 성능을 얻을 수 있다."
   ]
  },
  {
   "cell_type": "markdown",
   "id": "9e078d19-b1c1-4777-8d0e-b082542434ad",
   "metadata": {},
   "source": [
    "### 5. 훈련된 모델로 새로운 데이터 예측하기"
   ]
  },
  {
   "cell_type": "code",
   "execution_count": 20,
   "id": "ffa0ce16-a776-4bea-8f5b-c3c8b4e7d0fb",
   "metadata": {},
   "outputs": [
    {
     "name": "stdout",
     "output_type": "stream",
     "text": [
      "782/782 [==============================] - 1s 1ms/step\n"
     ]
    },
    {
     "data": {
      "text/plain": [
       "array([[0.1778116 ],\n",
       "       [0.9988224 ],\n",
       "       [0.71696854],\n",
       "       ...,\n",
       "       [0.09512016],\n",
       "       [0.05127264],\n",
       "       [0.48686466]], dtype=float32)"
      ]
     },
     "execution_count": 20,
     "metadata": {},
     "output_type": "execute_result"
    }
   ],
   "source": [
    "model.predict(x_test)"
   ]
  },
  {
   "cell_type": "markdown",
   "id": "ae8ccf2f-cff5-470c-8a36-955d1ef55c56",
   "metadata": {},
   "source": [
    "이 모델은 어떤 샘플에 대해 확신을 가지고 있지만(0.99 또는 그 이상, 0.01 또는 그 이하) 어떤 샘플에 대해서는 확신이 부족하다(0.6, 0.4)"
   ]
  },
  {
   "cell_type": "markdown",
   "id": "b4b0b8ae-32f7-4367-bff1-15141614b668",
   "metadata": {},
   "source": [
    "여기서는 두 개의 은닉층을 사용했지만, 한 개 또는 세 개의 은닉층을 사용하고 검증과 테스트 정확도에 어떤 영향을 미치는지 확인해볼 수 있다.<br>\n",
    "또한, 층의 은닉 유닛을 추가하거나 줄여보고 손실함수, 활성화 함수 등을 변경하며 추가 실험을 진행해볼 수 있다."
   ]
  },
  {
   "cell_type": "markdown",
   "id": "aa90cb0b-2109-4b1c-aa5a-5f04e949adc5",
   "metadata": {
    "tags": []
   },
   "source": [
    "##### <정리>\n",
    "- 원본 데이터를 신경망에 텐서로 주입하기 위해서는 꽤 많은 전처리가 필요하다. <br>단어 시퀀스는 이진 벡터로 인코딩될 수 있고 다른 인코딩 방식도 있다.\n",
    "- relu 활성화 함수와 함께 Dense 층을 쌓은 네트워크는 (감성 분류를 포함하여) 여러 종류의 문제에 적용할 수 있어 자주 사용한다.\n",
    "- (출력 클래스가 두 개인) 이진 분류 문제에서 네트워크는 하나의 유닛과 sigmoid 활성화 함수를 가진 Dense 층으로 끝나야 한다. <br>이 신경망의 출력은 확률을 나타내는 0과 1 사이의 스칼라 값이다.\n",
    "- 이진 분류 문제에서 이런 스칼라 시그모이드 출력에 대해 사용할 손실 함수는 binary_crossentropy 이다.\n",
    "- rmsprop 옵티마이저는 문제에 상관없이 일반적으로 충분히 좋은 선택이다.\n",
    "- 훈련 데이터에 대해 성능이 향상됨에 따라 신경망은 과대적합되기 시작하고 이전에 본적 없는 데이터에서는 결과가 점점 나빠지게 된다."
   ]
  }
 ],
 "metadata": {
  "kernelspec": {
   "display_name": "django2_kernel",
   "language": "python",
   "name": "django2"
  },
  "language_info": {
   "codemirror_mode": {
    "name": "ipython",
    "version": 3
   },
   "file_extension": ".py",
   "mimetype": "text/x-python",
   "name": "python",
   "nbconvert_exporter": "python",
   "pygments_lexer": "ipython3",
   "version": "3.10.5"
  }
 },
 "nbformat": 4,
 "nbformat_minor": 5
}
